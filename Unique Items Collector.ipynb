{
 "cells": [
  {
   "cell_type": "code",
   "execution_count": null,
   "id": "59e94d82-09f2-4c5e-a623-ddc928c808ab",
   "metadata": {},
   "outputs": [],
   "source": []
  },
  {
   "cell_type": "code",
   "execution_count": null,
   "id": "e2ddc718-fa36-42b3-9869-b53ef5c83c4a",
   "metadata": {},
   "outputs": [],
   "source": [
    "'''\n",
    "You are a collector of unique items. Your task is to create sets of items based on\n",
    "their categories and perform operations on those sets. Write a Python program\n",
    "that allows you to create sets, combine sets, find common elements, and check if\n",
    "one set is a proper subset of another set.\n",
    " Requirements:\n",
    "1. Prompt the user to enter items and their categories.\n",
    "2. Create sets of items based on their categories.\n",
    "3. Allow the user to combine two sets into a single set.\n",
    "4. Implement a function to find and display the common elements between two\n",
    "sets.\n",
    "5. Implement a function to check if one set is a proper subset of another set.\n",
    "6. Display the sets and the results of the operations after each step.\n",
    "'''"
   ]
  },
  {
   "cell_type": "code",
   "execution_count": 1,
   "id": "5d71af63-1da8-4931-b715-27549023025f",
   "metadata": {},
   "outputs": [
    {
     "name": "stdin",
     "output_type": "stream",
     "text": [
      "Enter the category of items (or 'done' to finish):  stationary\n",
      "Enter items for category 'stationary' (comma-separated):  pen,pencil,ruler,eraser\n"
     ]
    },
    {
     "name": "stdout",
     "output_type": "stream",
     "text": [
      "Set 'stationary' created successfully with items: ['pen', 'pencil', 'ruler', 'eraser']\n"
     ]
    },
    {
     "name": "stdin",
     "output_type": "stream",
     "text": [
      "Enter the category of items (or 'done' to finish):  electronics\n",
      "Enter items for category 'electronics' (comma-separated):  mobile,laptop,charger,ipad\n"
     ]
    },
    {
     "name": "stdout",
     "output_type": "stream",
     "text": [
      "Set 'electronics' created successfully with items: ['mobile', 'laptop', 'charger', 'ipad']\n"
     ]
    },
    {
     "name": "stdin",
     "output_type": "stream",
     "text": [
      "Enter the category of items (or 'done' to finish):  done\n"
     ]
    },
    {
     "name": "stdout",
     "output_type": "stream",
     "text": [
      "\n",
      "Current Sets:\n",
      "stationary: {'pencil', 'ruler', 'eraser', 'pen'}\n",
      "electronics: {'mobile', 'ipad', 'charger', 'laptop'}\n"
     ]
    },
    {
     "name": "stdin",
     "output_type": "stream",
     "text": [
      "Enter the name of the first set to combine:  stationary\n",
      "Enter the name of the second set to combine:  electronics\n"
     ]
    },
    {
     "name": "stdout",
     "output_type": "stream",
     "text": [
      "Sets 'stationary' and 'electronics' combined into a new set 'stationary_electronics_combined': {'ruler', 'pen', 'ipad', 'charger', 'eraser', 'pencil', 'mobile', 'laptop'}\n",
      "\n",
      "Current Sets:\n",
      "stationary: {'pencil', 'ruler', 'eraser', 'pen'}\n",
      "electronics: {'mobile', 'ipad', 'charger', 'laptop'}\n",
      "stationary_electronics_combined: {'ruler', 'pen', 'ipad', 'charger', 'eraser', 'pencil', 'mobile', 'laptop'}\n"
     ]
    },
    {
     "name": "stdin",
     "output_type": "stream",
     "text": [
      "Enter the name of the first set for common elements:  stationary\n",
      "Enter the name of the second set for common elements:  electronics\n"
     ]
    },
    {
     "name": "stdout",
     "output_type": "stream",
     "text": [
      "Common elements between sets 'stationary' and 'electronics': set()\n"
     ]
    },
    {
     "name": "stdin",
     "output_type": "stream",
     "text": [
      "Enter the name of the first set for subset check:  stationary\n",
      "Enter the name of the second set for subset check:  stationary\n"
     ]
    },
    {
     "name": "stdout",
     "output_type": "stream",
     "text": [
      "Set 'stationary' is not a proper subset of set 'stationary'.\n"
     ]
    }
   ],
   "source": [
    "class UniqueItemsCollector:\n",
    "    def __init__(self):\n",
    "        self.sets = {}\n",
    "\n",
    "    def prompt_user_for_items(self):\n",
    "        while True:\n",
    "            category = input(\"Enter the category of items (or 'done' to finish): \").lower()\n",
    "            if category == 'done':\n",
    "                break\n",
    "            items = input(f\"Enter items for category '{category}' (comma-separated): \").split(',')\n",
    "            self.create_set(category, [item.strip() for item in items])\n",
    "\n",
    "    def create_set(self, set_name, items):\n",
    "        if set_name in self.sets:\n",
    "            print(f\"Set '{set_name}' already exists. Please choose a different name.\")\n",
    "            return\n",
    "        self.sets[set_name] = set(items)\n",
    "        print(f\"Set '{set_name}' created successfully with items: {items}\")\n",
    "\n",
    "    def combine_sets(self, set1_name, set2_name):\n",
    "        if set1_name not in self.sets or set2_name not in self.sets:\n",
    "            print(\"Invalid set names. Please ensure both sets exist.\")\n",
    "            return\n",
    "        new_set_name = f\"{set1_name}_{set2_name}_combined\"\n",
    "        combined_set = self.sets[set1_name].union(self.sets[set2_name])\n",
    "        self.sets[new_set_name] = combined_set\n",
    "        print(f\"Sets '{set1_name}' and '{set2_name}' combined into a new set '{new_set_name}': {combined_set}\")\n",
    "\n",
    "    def find_common_elements(self, set1_name, set2_name):\n",
    "        if set1_name not in self.sets or set2_name not in self.sets:\n",
    "            print(\"Invalid set names. Please ensure both sets exist.\")\n",
    "            return\n",
    "        common_elements = self.sets[set1_name].intersection(self.sets[set2_name])\n",
    "        print(f\"Common elements between sets '{set1_name}' and '{set2_name}': {common_elements}\")\n",
    "\n",
    "    def is_proper_subset(self, set1_name, set2_name):\n",
    "        if set1_name not in self.sets or set2_name not in self.sets:\n",
    "            print(\"Invalid set names. Please ensure both sets exist.\")\n",
    "            return\n",
    "        is_proper_subset = self.sets[set1_name].issubset(self.sets[set2_name]) and self.sets[set1_name] != self.sets[set2_name]\n",
    "        if is_proper_subset:\n",
    "            print(f\"Set '{set1_name}' is a proper subset of set '{set2_name}'.\")\n",
    "        else:\n",
    "            print(f\"Set '{set1_name}' is not a proper subset of set '{set2_name}'.\")\n",
    "\n",
    "    def display_sets(self):\n",
    "        print(\"\\nCurrent Sets:\")\n",
    "        for set_name, items in self.sets.items():\n",
    "            print(f\"{set_name}: {items}\")\n",
    "\n",
    "\n",
    "collector = UniqueItemsCollector()\n",
    "\n",
    "collector.prompt_user_for_items()\n",
    "collector.display_sets()\n",
    "\n",
    "set1_name = input(\"Enter the name of the first set to combine: \")\n",
    "set2_name = input(\"Enter the name of the second set to combine: \")\n",
    "collector.combine_sets(set1_name, set2_name)\n",
    "collector.display_sets()\n",
    "\n",
    "set1_name = input(\"Enter the name of the first set for common elements: \")\n",
    "set2_name = input(\"Enter the name of the second set for common elements: \")\n",
    "collector.find_common_elements(set1_name, set2_name)\n",
    "\n",
    "set1_name = input(\"Enter the name of the first set for subset check: \")\n",
    "set2_name = input(\"Enter the name of the second set for subset check: \")\n",
    "collector.is_proper_subset(set1_name, set2_name)"
   ]
  },
  {
   "cell_type": "code",
   "execution_count": null,
   "id": "357947e0-6f08-4d2f-b0d4-1cedb19d9ebb",
   "metadata": {},
   "outputs": [],
   "source": []
  }
 ],
 "metadata": {
  "kernelspec": {
   "display_name": "Python 3 (ipykernel)",
   "language": "python",
   "name": "python3"
  },
  "language_info": {
   "codemirror_mode": {
    "name": "ipython",
    "version": 3
   },
   "file_extension": ".py",
   "mimetype": "text/x-python",
   "name": "python",
   "nbconvert_exporter": "python",
   "pygments_lexer": "ipython3",
   "version": "3.10.8"
  }
 },
 "nbformat": 4,
 "nbformat_minor": 5
}
